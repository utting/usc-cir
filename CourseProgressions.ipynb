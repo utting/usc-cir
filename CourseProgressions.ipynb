{
  "cells": [
    {
      "metadata": {},
      "cell_type": "markdown",
      "source": "# Explore USC Course Progression Suggestions\n\nEach course in a degree is given a 'course progression value' (CVP).\nThe next best courses to take are the ones in the current semester\nthat have the lowest 'course progression value'.\n\nCourse Progression Values (CPVs) are four-digit numbers in the form A.BCD (for example 3.251) where the A value relates to the Study Period (typically a semester) in the sequence of Study Periods in the optimal study plan, the B value relates to the course year level (100-, 200-, etc.), the C value relates to whether the course is required, recommended or elective (including in a major or minor), and the D value relates to whether the course is a pre-requisite for subsequent courses.\n\nCourse Progression Value Concept invented by: Graham Ashford\n\nAuthor of this code: Mark Utting\n\nTODO: \n* [DONE] read Excel files directly, instead of just *.csv.\n* [DONE] read majors/minors from Excel file using Graham's layout.\n* [DONE] if no semesters for each course, then just use CPV even/odd.\n* allow a different load for each semester.\n* show equal courses with '=' sign (to show student choice).\n* discard XXX1nn electives (CPV=1.17x or 2.17x) after done>8 courses\n* have special Elective1xx that only matches first-year electives\n* threshold for allowing Elective2xx etc.\n* check pre-reqs - where to read them from?\n* add anti-reqs (as equivalent to required course)\n* warn if exceed 10 first-year courses or 24/36 courses total?\n* handle courses that are not 12 points."
    },
    {
      "metadata": {},
      "cell_type": "markdown",
      "source": "## Parameters and Settings"
    },
    {
      "metadata": {
        "trusted": true
      },
      "cell_type": "code",
      "source": "ELECTIVE_PREFIX = \"Elective\"\nLOAD = 4   # max courses each semester",
      "execution_count": 1,
      "outputs": []
    },
    {
      "metadata": {
        "trusted": true
      },
      "cell_type": "code",
      "source": "import csv\nimport sys\nfrom typing import Set, List, Dict",
      "execution_count": 2,
      "outputs": []
    },
    {
      "metadata": {
        "trusted": true
      },
      "cell_type": "code",
      "source": "import pandas as pd\nimport numpy as np",
      "execution_count": 3,
      "outputs": []
    },
    {
      "metadata": {},
      "cell_type": "markdown",
      "source": "## Code for Reading Student Records"
    },
    {
      "metadata": {
        "trusted": true
      },
      "cell_type": "code",
      "source": "class Student:\n    \"\"\"Basic student objects, to record id, name, courses they have passed, etc.\n    Note: majors_minors is used for planning so should include the degree requirements.\n    \"\"\"\n    def __init__(self, id:str, first:str, last:str, majors_minors:List[str]=[]):\n        self.id = id\n        self.last = last\n        self.first = first\n        self.majors_minors = majors_minors\n        self.passed = set()\n        \n    def done(self, course_code:str, grade:str):\n        # This currently adds every course, since we read the 'Clean Data' tab. \n        # TODO: check if passing grade? \n        # But include those in progress?\n        self.passed.add(course_code)\n        \n    def __str__(self):\n        return \"{} {} {}\".format(self.id, self.first, self.last)",
      "execution_count": 4,
      "outputs": []
    },
    {
      "metadata": {
        "trusted": true
      },
      "cell_type": "code",
      "source": "def read_students(filename:str) -> List[Student]:\n    \"\"\"Read an Excel file of student results.\"\"\"\n    data = pd.read_excel(filename, sheet_name=\"Clean Data\")\n    students = []\n    curr_stu = None # current student we are reading\n    for i in data.index:\n        if curr_stu == None or curr_stu.id != data[\"ID\"][i]:\n            # start new student\n            curr_stu = Student(\n                data[\"ID\"][i],\n                data[\"First Name\"][i],\n                data[\"Last\"][i]\n            )\n            students.append(curr_stu)\n        code = data[\"Subject\"][i] + str(data[\"Catalog\"][i])\n        curr_stu.done(code, data[\"Grade\"][i])\n    return students",
      "execution_count": 5,
      "outputs": []
    },
    {
      "metadata": {
        "trusted": true
      },
      "cell_type": "code",
      "source": "stu = read_students(\"Dummy student details.xlsx\")\nassert len(stu) == 2\nassert stu[0].first == \"Father\"\nassert stu[0].last == \"Christmas\"\nassert len(stu[0].passed) == 8\nassert \"BUS101\" in stu[0].passed\nassert \"ICT120\" in stu[0].passed",
      "execution_count": 6,
      "outputs": []
    },
    {
      "metadata": {},
      "cell_type": "markdown",
      "source": "## Code for Reading Programs / Majors / Minors with CPVs"
    },
    {
      "metadata": {
        "trusted": true
      },
      "cell_type": "code",
      "source": "class Course:\n    \"\"\"Simple course object, to record course code, title and progression value (cpv).\"\"\"\n    def __init__(self, code, title, cpv):\n        self.code = code\n        self.title = title\n        self.cpv = cpv\n        \n    def is_done(self, done:Set[str]) -> bool:\n        # TODO: extend to handle anti-reqs?\n        return self.code in done\n    \n    def is_elective(self, level:int=0):\n        \"\"\"True if this course is elective.\n        The optional 'level' argument allows you to check if it is at a given year level.\n        For example: is_elective(2) will be True for Elective201, False for Elective300.\n        \"\"\"\n        level_str = \"\"\n        if level > 0:\n            level_str = str(level)\n        return self.code.startswith(ELECTIVE_PREFIX + level_str)\n    \n    def __eq__(self, other):\n        \"\"\"Two courses are equal iff they have the same code.\"\"\"\n        if isinstance(other, Course):\n            return self.code == other.code\n        return False\n    \n    def __hash__(self):\n        \"\"\"Hash must be consistent with equals.\"\"\"\n        return hash(self.code)\n    \n    def __str__(self):\n        return self.code\n    \n# Test Course objects\ncor109 = Course(\"COR109\", \"Communication and Thought\", 1.130)\nict221 = Course(\"ICT221\", \"Object-Oriented Programming\", 3.130)\nassert cor109 == cor109\nassert ict221 != cor109\nassert cor109 != 3\n\nassert cor109.is_done(set()) == False\nassert cor109.is_done(set([\"COR109\"])) == True\n\nassert cor109.is_elective() == False\nassert Course(ELECTIVE_PREFIX+\"101\", \"\", 1.130).is_elective() == True\nassert Course(ELECTIVE_PREFIX+\"101\", \"\", 1.130).is_elective(1) == True\nassert Course(ELECTIVE_PREFIX+\"101\", \"\", 1.130).is_elective(2) == False",
      "execution_count": 7,
      "outputs": []
    },
    {
      "metadata": {
        "trusted": true
      },
      "cell_type": "code",
      "source": "def read_programs_lauren(excelfile:str) -> Dict[str,List]:\n    \"\"\"Reads an Excel file of programs (degrees) in Lauren's format.\n    Each program/major/minor has a list of courses with CPVs.\n    Required columns in Excel sheet:\n    A. ignored\n    B. Progression Value (or next degree+major name)\n    C. Course Code\n    D. Course Title\n    E. Comment (optional)\n    \"\"\"\n    sheet = pd.read_excel(excelfile, header=None)\n    # These correspond to columns A,B,C,D,E,... in the Excel file\n    sheet.columns = [\"ignore\", \"CPV\", \"Code\", \"Title\", \"Comment\"]\n    programs = {}\n    curr_prog = []\n    for i in sheet.index:\n        cpv = sheet.CPV[i]\n        code = sheet.Code[i]\n        title = sheet.Title[i]\n        # print(cpv, code, title)\n        if pd.notnull(cpv) and pd.isnull(code):\n            print(\"reading\", cpv)  # the name of the degree/major/minor\n            curr_prog = [] # new list\n            programs[cpv] = curr_prog\n        elif code is str and code.lower() == \"course code\":\n            pass  # ignore any column header rows\n        elif isinstance(cpv, float) and pd.notnull(code) and pd.notnull(title):\n            # print(\"    \", cpv, code, title)\n            curr_prog.append(Course(code, title, cpv))\n    return programs",
      "execution_count": 8,
      "outputs": []
    },
    {
      "metadata": {
        "trusted": true
      },
      "cell_type": "code",
      "source": "# test that it works correctly\nbict = read_programs_lauren(\"Course Progression BICT.xlsx\")\nassert len(bict) == 2\nassert len(bict[\"BICT: Information Systems Major\"]) == 24\nassert len(bict[\"BICT: Web and Mobile Development Major\"]) == 24",
      "execution_count": 9,
      "outputs": [
        {
          "output_type": "stream",
          "text": "reading BICT: Information Systems Major\nreading BICT: Web and Mobile Development Major\n",
          "name": "stdout"
        }
      ]
    },
    {
      "metadata": {
        "trusted": true
      },
      "cell_type": "code",
      "source": "def read_programs_graham(excelfile:str) -> Dict[str,List]:\n    \"\"\"Reads an Excel file that defines programs/majors/minors.\n    Assumes the file follows Graham's conventions: a single long\n    list of courses, with column A having the program/major/minor\n    name on the row where it starts.\n    Each program/major/minor has a list of courses with CPVs.\n    Required columns in Excel sheet:\n    A. Program/Major/Minor name (on the row where it starts)\n    B. Progression Value\n    C. Course Code\n    D. Course Title\n    E. Comment (optional)\n    \"\"\"\n    sheet = pd.read_excel(excelfile)\n    # Define the column names in the Excel file\n    column_name = \"Major/Minor\"\n    column_cpv = \"Progression value\"\n    column_code = \"Course code\"\n    column_title = \"Course title\"\n    degrees = {} # maps each component name to a list of its courses\n    courses = []\n    for i in sheet.index:\n        name = sheet[column_name][i]\n        cpv = sheet[column_cpv][i]\n        code = sheet[column_code][i]\n        title = sheet[column_title][i]\n        # print(name, cpv, code, title)\n        if pd.notnull(name):\n            # start a new program/major/minor \n            print(\"Reading:\", name)\n            courses = []\n            degrees[name] = courses\n        if isinstance(cpv, float) and pd.notnull(code) and pd.notnull(title):\n            courses.append(Course(code, title, cpv))\n    return degrees",
      "execution_count": 10,
      "outputs": []
    },
    {
      "metadata": {
        "trusted": true
      },
      "cell_type": "code",
      "source": "# test that it works correctly\nbsc = read_programs_graham(\"Course Progression BSc.xlsx\")\nbsc_majors = [m for m in bsc.keys() if m.endswith(\"major\")]\nbsc_minors = [m for m in bsc.keys() if m.endswith(\"minor\")]\nassert len(bsc_majors) == 5\nassert len(bsc_minors) == 11\nassert len(bsc[\"BSc\"]) > 10\nassert len(bsc[\"Chemistry minor\"]) == 4",
      "execution_count": 11,
      "outputs": [
        {
          "output_type": "stream",
          "text": "Reading: BSc\nReading: Biology major\nReading: Biotechnology major\nReading: Chemisty major\nReading: Ecology major\nReading: Mathematics major\nReading: Biology minor\nReading: Biochemistry minor\nReading: Biotechnology minor\nReading: Chemistry minor\nReading: Agriculture and Aquaculture minor\nReading: Genetics minor\nReading: Mathematics minor\nReading: Microbiology minor\nReading: Sustainability minor\nReading: Journalism minor\nReading: Entrepreneurship minor\nReading: Other pre-reqs not included in majors or minors\n",
          "name": "stdout"
        }
      ]
    },
    {
      "metadata": {},
      "cell_type": "markdown",
      "source": "## Code for recommending which courses students should take"
    },
    {
      "metadata": {
        "trusted": true
      },
      "cell_type": "code",
      "source": "def level(code:str) -> int:\n    \"\"\"Return the year-level of a given course code.\"\"\"\n    if code.startswith(ELECTIVE_PREFIX):\n        return int(code[len(ELECTIVE_PREFIX)])\n    else:\n        return int(code[3])\n\n# Test this function.\nassert level(\"ABC234\") == 2\nassert level(ELECTIVE_PREFIX + \"321\") == 3",
      "execution_count": 12,
      "outputs": []
    },
    {
      "metadata": {
        "trusted": true
      },
      "cell_type": "code",
      "source": "def is_allowed(course:Course, done:Set[str], semester:int) -> bool:\n    \"\"\"True if the given course (code) has not been done,\n    and it is allowed to be taken in this semester (the even/odd trick)\n    and if it is a level 100 elective then student has done < 8 courses\n    and if it is a level 100 elective then student has done < 16 courses.\n    \"\"\"\n    correct_semester = (int(course.cpv) % 2) == (semester % 2)\n    #ignore100 = course.code.startswith(ELECTIVE_PREFIX + \"1\") and len(done) >= 8\n    #ignore200 = course.code.startswith(ELECTIVE_PREFIX + \"2\") and len(done) >= 2 * 8\n    return course.code not in done and correct_semester # and not ignore100 and not ignore200\n\n# Test this function:\nabc1 = Course(\"ABC110\", \"News Science\", 1.230)\nabc2 = Course(\"ABC110\", \"News Science\", 2.230)\nabc3 = Course(\"ABC110\", \"News Science\", 3.230)\nabc4 = Course(\"ABC110\", \"News Science\", 4.230)\nassert is_allowed(abc1, set(), 1) == True\nassert is_allowed(abc2, set(), 1) == False\nassert is_allowed(abc3, set(), 1) == True\nassert is_allowed(abc4, set(), 1) == False\n\nassert is_allowed(abc1, set(), 2) == False\nassert is_allowed(abc2, set(), 2) == True\nassert is_allowed(abc3, set(), 2) == False\nassert is_allowed(abc4, set(), 2) == True\n\nassert is_allowed(abc1, set([\"ABC123\"]), 2) == False\n\ndef eight(year:int) -> List[str]:\n    return [Course(\"ABC{}2{}\".format(year, i), \"Title\", 2 * year + 0.230) for i in \"12345678\"]\n\nassert is_allowed(Course(\"Elective101\", \"\", 4.0), set([]), 2) == True\n#assert is_allowed(Course(\"Elective101\", \"\", 2.0), set(eight(1)), 2) == False\nassert is_allowed(Course(\"Elective201\", \"\", 4.0), set([abc1]), 2) == True\n#assert is_allowed(Course(\"Elective201\", \"\", 2.0), set(eight(1) + eight(2)), 2) == False",
      "execution_count": 13,
      "outputs": []
    },
    {
      "metadata": {
        "trusted": true
      },
      "cell_type": "code",
      "source": "def pretty(codes:Set[str]) -> str:\n    \"\"\"Pretty-print a set of course codes into a string.\"\"\"\n    return \" \".join(sorted(list(codes)))\n\n# Test this function.\nassert pretty(set([\"ABC323\", \"ABC100\"])) == \"ABC100 ABC323\"",
      "execution_count": 14,
      "outputs": []
    },
    {
      "metadata": {
        "trusted": true
      },
      "cell_type": "code",
      "source": "def plan_student_old(stu:Student, programs:Dict[str,List], output=sys.stdout):\n    \"\"\"Print all remaining courses for this student, by semester.\"\"\"\n    done = stu.passed\n    output.write(\"{} {} {} {}\\n\".format(stu.id, stu.first, stu.last, stu.program))\n    progression = sorted(programs[stu.program])  # sort by progression code\n    required_courses = set([c for (p,c,t,s) in progression]) # includes electives\n    required_electives = set([c for c in required_courses if c.startswith(ELECTIVE_PREFIX)])\n    # partition 'done' into three subsets\n    done_required = done.intersection(required_courses)\n    done_extra = done.difference(required_courses)\n    done_electives = list(done_extra)[0:len(required_electives)]\n    done_extra = done_extra.difference(done_electives)\n    assert done_required.union(done_electives).union(done_extra) == done\n    required_electives_done = sorted(list(required_electives))[0:len(done_electives)]\n    done = done.union(required_electives_done)\n    output.write(\"    done required: \" + pretty(done_required) + \"\\n\")\n    output.write(\"    done electives:\" + pretty(done_electives) + \"\\n\")\n    # output.write(\"    as electives : \" + pretty(required_electives_done) + \"\\n\")\n    if done_extra:\n        output.write(\"    WASTED :-(   : \" + pretty(done_extra) + \"\\n\")\n    \n    # now spread the remaining courses out over several semesters\n    remaining = [(p,c,t,s) for (p,c,t,s) in progression if c not in done]\n    sem = START_SEMESTER\n    while remaining:\n        this_sem = [c for (p,c,t,s) in remaining if s == sem]\n        do_now = this_sem[0:LOAD]\n        do_now_string = \" \".join(do_now)\n        output.write(\"    sem{}: {}\\n\".format(sem, do_now_string))\n        # update done and remaining, then move to next semester\n        done = done.union(set(do_now))\n        remaining = [(p,c,t,s) for (p,c,t,s) in remaining if c not in done]\n        if sem == 1:\n            sem = 2\n        else:\n            sem = 1",
      "execution_count": 15,
      "outputs": []
    },
    {
      "metadata": {
        "trusted": true
      },
      "cell_type": "code",
      "source": "def whole_program(programs:Dict[str,List], majors_minors:List[str]) -> List[Course]:\n    \"\"\"Expand a degree name plus majors and minors into one total list of requirements.\"\"\"\n    progression = sum([programs[m] for m in majors_minors], [])\n    return sorted(progression, key=lambda c: c.cpv) # then sort by CPV",
      "execution_count": 16,
      "outputs": []
    },
    {
      "metadata": {
        "trusted": true
      },
      "cell_type": "code",
      "source": "def remove_done(progression, done:Set[str]) -> List[Course]:\n    \"\"\"Remove courses that are satisfied by the 'done' set (of course codes).\"\"\"\n    return [c for c in progression if not c.is_done(done)]",
      "execution_count": 17,
      "outputs": []
    },
    {
      "metadata": {
        "trusted": true
      },
      "cell_type": "code",
      "source": "def allocate_elective(elective:Course, done:Set[str]) -> str:\n    \"\"\"Choose a course from 'done' for this elective, else return None.\"\"\"\n    for code in sorted(list(done), key=lambda c: c[3:]):\n        # if level(code) >= level(elective.code):\n            return code\n    return None\n\n# Test this function.\ne = Course(ELECTIVE_PREFIX + \"200\", \"\", 2.341)\nassert allocate_elective(e, set([])) == None\n#assert allocate_elective(e, set([\"ABC123\"])) == None\nassert allocate_elective(e, set([\"ABC123\", \"ABC234\"])) == \"ABC123\"\n#assert allocate_elective(e, set([\"ABC123\", \"ABC234\"])) == \"ABC234\"\nassert allocate_elective(e, set([\"ABC323\", \"ABC234\", \"ABC333\"])) == \"ABC234\" # the lowest level one",
      "execution_count": 18,
      "outputs": []
    },
    {
      "metadata": {
        "trusted": true
      },
      "cell_type": "code",
      "source": "def finished(progression, done:Set[str]) -> bool:\n    \"\"\"Student is finished if they have only electives left, and have done enough courses.\"\"\"\n    return len(done) >= 24 and all([c.is_elective() for c in progression])",
      "execution_count": 19,
      "outputs": []
    },
    {
      "metadata": {
        "trusted": true
      },
      "cell_type": "code",
      "source": "def plan_student(stu:Student, progression:List[Course], semester:int, output=sys.stdout):\n    \"\"\"Print all remaining courses for this student, by semester.\"\"\"\n    # step 1: tick off all required courses already done\n    required_codes = set([c.code for c in progression])\n    done = stu.passed.intersection(required_codes)\n    done_extra = stu.passed.difference(done) # these may be used as electives\n    progression = remove_done(progression, done)\n    output.write(\"    done: {}\\n\".format(done))\n    if done_extra:\n        output.write(\"    extra {}\\n\".format(done_extra))\n        \n    # step 2: loop through the current and future semesters\n    # Note: we allocate the 'done_extra' courses to electives as we go.\n    timeout = 0\n    while not finished(progression, done) or timeout > 10:\n        todo = set()\n        for course in progression:\n            if is_allowed(course, done, semester):\n                if course.is_elective():\n                    e = allocate_elective(course, done_extra)\n                    if e != None:\n                        # satisfy this elective by the course they have already done\n                        done.add(e)\n                        done_extra.remove(e)\n                        print(\"          {} satisfied by {}\".format(course.code, e))\n                    elif len(done) < 8 * level(course.code):         # too restrictive ??? \n                        # get them to do this elective\n                        todo.add(course)\n                        done.add(course.code)\n                else:\n                    todo.add(course)\n                    done.add(course.code)\n                # see if this semester is full?\n                left = [c for c in progression if c not in todo]\n                if len(todo) == LOAD or finished(left, done):\n                    break\n        todo_codes = [c.code for c in todo]\n        output.write(\"    sem{}: {}\\n\".format(semester, pretty(todo_codes)))\n        progression = [c for c in progression if c not in todo]\n        # move to next semester\n        timeout += 1\n        if semester == 1:\n            semester = 2\n        else:\n            semester = 1\n\n    if done_extra:\n        output.write(\"    WASTED :-(   : \" + pretty(done_extra) + \"\\n\")\n    output.write(\"    Total courses done: {}\\n\\n\".format(len(done)))",
      "execution_count": 20,
      "outputs": []
    },
    {
      "metadata": {},
      "cell_type": "markdown",
      "source": "### Example BICT Students"
    },
    {
      "metadata": {
        "trusted": true
      },
      "cell_type": "code",
      "source": "# Some BICT test cases (choose one of the following majors)\nbict_is = whole_program(bict, [\"BICT: Information Systems Major\"])\nbict_wm = whole_program(bict, [\"BICT: Web and Mobile Development Major\"])\n\nyear1 = [\"ICT110\", \"ICT112\", \"ICT115\", \"ICT120\", \"COR109\", \"BUS104\", \"BUS106\", \"BUS101\"]\nyear2 = [\"ICT211\", \"BUS203\", \"DES105\", \"ICT220\", \"BUS211\", \"ICT321\"]\n\ns1 = Student(\"0000000\", \"New\", \"Student\")\ns1.passed = set()\n\ns2 = Student(\"0000000\", \"Second-Year ICT\", \"Student\")\ns2.passed = set(year1)\n\ns3 = Student(\"0000000\", \"Third-Year IS\", \"Student\")\ns3.passed = set(year1+year2)\n\ns4 = Student(\"0000000\", \"Vacilating\", \"Student\")\ns4.passed = set(year1 + [\"ABC20\"+c for c in \"12345678\"])\n\nfor s in [s1,s2,s3,s4]:\n    for start_semester in [1,2]:\n        print(\"{} BICT Web & Mobile major, start semester {}\".format(s, start_semester))\n        plan_student(s, bict_wm, start_semester)",
      "execution_count": 21,
      "outputs": [
        {
          "output_type": "stream",
          "text": "0000000 New Student BICT Web & Mobile major, start semester 1\n    done: set()\n    sem1: BUS104 COR109 ICT110 ICT112\n    sem2: BUS101 ENG103 ICT115 ICT120\n    sem1: DES221 ICT211 ICT220 ICT221\n    sem2: DES222 Elective200 ICT311 ICT320\n    sem1: CSC301 Elective300 ICT310 ICT352\n    sem2: Elective301 Elective302 ICT342 ICT351\n    Total courses done: 24\n\n0000000 New Student BICT Web & Mobile major, start semester 2\n    done: set()\n    sem2: BUS101 ENG103 ICT115 ICT120\n    sem1: BUS104 COR109 ICT110 ICT112\n    sem2: DES222 Elective200 ICT311 ICT320\n    sem1: DES221 ICT211 ICT220 ICT221\n    sem2: Elective301 Elective302 ICT342 ICT351\n    sem1: CSC301 Elective300 ICT310 ICT352\n    Total courses done: 24\n\n0000000 Second-Year ICT Student BICT Web & Mobile major, start semester 1\n    done: {'ICT110', 'COR109', 'ICT120', 'ICT112', 'ICT115', 'BUS104', 'BUS101'}\n    extra {'BUS106'}\n    sem1: DES221 ICT211 ICT220 ICT221\n    sem2: DES222 ENG103 ICT311 ICT320\n          Elective300 satisfied by BUS106\n    sem1: CSC301 ICT310 ICT352\n    sem2: Elective301 Elective302 ICT342 ICT351\n    sem1: Elective300\n    Total courses done: 24\n\n0000000 Second-Year ICT Student BICT Web & Mobile major, start semester 2\n    done: {'ICT110', 'COR109', 'ICT120', 'ICT112', 'ICT115', 'BUS104', 'BUS101'}\n    extra {'BUS106'}\n    sem2: DES222 ENG103 ICT311 ICT320\n    sem1: DES221 ICT211 ICT220 ICT221\n          Elective200 satisfied by BUS106\n    sem2: Elective301 Elective302 ICT342 ICT351\n    sem1: CSC301 Elective300 ICT310 ICT352\n    Total courses done: 24\n\n0000000 Third-Year IS Student BICT Web & Mobile major, start semester 1\n    done: {'ICT110', 'COR109', 'ICT120', 'ICT211', 'ICT112', 'ICT115', 'BUS104', 'ICT220', 'BUS101'}\n    extra {'BUS203', 'BUS211', 'ICT321', 'BUS106', 'DES105'}\n    sem1: DES221 ICT221 ICT310 ICT352\n    sem2: DES222 ENG103 ICT311 ICT320\n          Elective300 satisfied by DES105\n    sem1: CSC301\n          Elective200 satisfied by BUS106\n          Elective301 satisfied by BUS203\n          Elective302 satisfied by BUS211\n    sem2: ICT342 ICT351\n    WASTED :-(   : ICT321\n    Total courses done: 24\n\n0000000 Third-Year IS Student BICT Web & Mobile major, start semester 2\n    done: {'ICT110', 'COR109', 'ICT120', 'ICT211', 'ICT112', 'ICT115', 'BUS104', 'ICT220', 'BUS101'}\n    extra {'BUS203', 'BUS211', 'ICT321', 'BUS106', 'DES105'}\n    sem2: DES222 ENG103 ICT311 ICT320\n    sem1: DES221 ICT221 ICT310 ICT352\n          Elective200 satisfied by DES105\n          Elective301 satisfied by BUS106\n          Elective302 satisfied by BUS203\n    sem2: ICT342 ICT351\n          Elective300 satisfied by BUS211\n    sem1: CSC301\n    WASTED :-(   : ICT321\n    Total courses done: 24\n\n0000000 Vacilating Student BICT Web & Mobile major, start semester 1\n    done: {'ICT110', 'COR109', 'ICT120', 'ICT112', 'ICT115', 'BUS104', 'BUS101'}\n    extra {'ABC208', 'ABC204', 'ABC201', 'BUS106', 'ABC203', 'ABC202', 'ABC205', 'ABC207', 'ABC206'}\n    sem1: DES221 ICT211 ICT220 ICT221\n    sem2: DES222 ENG103 ICT311 ICT320\n          Elective300 satisfied by BUS106\n    sem1: CSC301 ICT310 ICT352\n          Elective200 satisfied by ABC201\n          Elective301 satisfied by ABC202\n          Elective302 satisfied by ABC203\n    sem2: ICT342 ICT351\n    WASTED :-(   : ABC204 ABC205 ABC206 ABC207 ABC208\n    Total courses done: 24\n\n0000000 Vacilating Student BICT Web & Mobile major, start semester 2\n    done: {'ICT110', 'COR109', 'ICT120', 'ICT112', 'ICT115', 'BUS104', 'BUS101'}\n    extra {'ABC208', 'ABC204', 'ABC201', 'BUS106', 'ABC203', 'ABC202', 'ABC205', 'ABC207', 'ABC206'}\n    sem2: DES222 ENG103 ICT311 ICT320\n    sem1: DES221 ICT211 ICT220 ICT221\n          Elective200 satisfied by BUS106\n          Elective301 satisfied by ABC201\n          Elective302 satisfied by ABC202\n    sem2: ICT342 ICT351\n          Elective300 satisfied by ABC203\n    sem1: CSC301 ICT310 ICT352\n    WASTED :-(   : ABC204 ABC205 ABC206 ABC207 ABC208\n    Total courses done: 24\n\n",
          "name": "stdout"
        }
      ]
    },
    {
      "metadata": {},
      "cell_type": "markdown",
      "source": "### Example BSc Students"
    },
    {
      "metadata": {
        "trusted": true
      },
      "cell_type": "code",
      "source": "start_semester = 1\nprog = whole_program(bsc, [\"BSc\", \"Biology major\", \"Genetics minor\"])\ns = Student(\"0000000\", \"New science\", \"Student\")\nplan_student(s, prog, start_semester)",
      "execution_count": 22,
      "outputs": [
        {
          "output_type": "stream",
          "text": "    done: set()\n    sem1: COR109 LFS100 SCI110 SCI113\n    sem2: Elective102 LFS112 SCI102 SCI105\n    sem1: ANM203 ENS221 LFS261 SCI202\n    sem2: ENS222 Elective202 LFS252 SCI212\n    sem1: BIM202 BIM331 ENS325 MBT301\n    sem2: ENS318 ENS324 Elective302 Elective303\n    sem1: \n    sem2: ENS330 ENS333 SCI302 WPL310\n    sem1: \n    sem2: SRP301 SUS310\n    Total courses done: 30\n\n",
          "name": "stdout"
        }
      ]
    },
    {
      "metadata": {
        "trusted": true
      },
      "cell_type": "code",
      "source": "# Analyse all combinations of 1 major + 1 minor.\nstart_semester = 1\nfor major in bsc_majors:\n    for minor in bsc_minors:\n        prog = whole_program(bsc, [\"BSc\",major,minor])\n        s = Student(\"0000000\", \"BSc\", \"Student\")\n        print(\"---- BSc + {} + {} ----\".format(major, minor))\n        plan_student(s, prog, start_semester)\n",
      "execution_count": null,
      "outputs": []
    },
    {
      "metadata": {},
      "cell_type": "markdown",
      "source": "## Analyse some real students"
    },
    {
      "metadata": {
        "trusted": true
      },
      "cell_type": "code",
      "source": "stu_bict = read_students(\"BICT student details.xlsx\")\nprint(\"Planning {} BICT students.\".format(len(stu_bict)))\nmajor = BICT_WM.replace(\":\", \" \")\nstart_semester = 1\nreport_name = \"Report {} Start Semester {}.txt\".format(major, start_semester)\nwith open(report_name, \"w\") as output:\n    for s in stu_bict:\n        s.program = BICT_WM\n        plan_student(s, bict, start_semester, output)",
      "execution_count": null,
      "outputs": []
    },
    {
      "metadata": {
        "trusted": true
      },
      "cell_type": "code",
      "source": "",
      "execution_count": null,
      "outputs": []
    },
    {
      "metadata": {
        "trusted": true
      },
      "cell_type": "code",
      "source": "",
      "execution_count": null,
      "outputs": []
    }
  ],
  "metadata": {
    "kernelspec": {
      "name": "python3",
      "display_name": "Python 3",
      "language": "python"
    },
    "language_info": {
      "mimetype": "text/x-python",
      "nbconvert_exporter": "python",
      "name": "python",
      "pygments_lexer": "ipython3",
      "version": "3.5.4",
      "file_extension": ".py",
      "codemirror_mode": {
        "version": 3,
        "name": "ipython"
      }
    }
  },
  "nbformat": 4,
  "nbformat_minor": 2
}